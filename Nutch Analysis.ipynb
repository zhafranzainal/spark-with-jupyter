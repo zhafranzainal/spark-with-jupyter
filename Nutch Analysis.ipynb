{
 "cells": [
  {
   "cell_type": "code",
   "execution_count": null,
   "id": "14dbfd8c",
   "metadata": {},
   "outputs": [],
   "source": [
    "!pip install pyspark"
   ]
  },
  {
   "cell_type": "code",
   "execution_count": 1,
   "id": "ca0090d1",
   "metadata": {},
   "outputs": [
    {
     "name": "stdout",
     "output_type": "stream",
     "text": [
      "+--------------------+--------------------+--------------------+-----------------+-----------------+--------------------+------------+--------------------+----------+-------------+--------------------+\n",
      "|           fetchTime|            metadata|        modifiedTime|retriesSinceFetch|retryIntervalDays|retryIntervalSeconds|       score|           signature|statusCode|   statusName|                 url|\n",
      "+--------------------+--------------------+--------------------+-----------------+-----------------+--------------------+------------+--------------------+----------+-------------+--------------------+\n",
      "|Mon Nov 13 21:20:...|{NULL, NULL, NULL...|Thu Jan 01 07:30:...|                0|               30|             2592000|4.0064103E-4|                null|         1| db_unfetched|  http://www.3u.com/|\n",
      "|Wed Dec 13 21:00:...|{text/html, temp_...|Mon Nov 13 21:00:...|                0|               30|             2592000| 0.106155306|                null|         4|db_redir_temp|   https://amanz.me/|\n",
      "|Mon Nov 13 21:20:...|{text/html, temp_...|Thu Jan 01 07:30:...|                0|               30|             2592000|         0.0|                null|         1| db_unfetched|https://amanz.me/...|\n",
      "|Mon Nov 13 21:20:...|{NULL, NULL, NULL...|Thu Jan 01 07:30:...|                0|               30|             2592000|0.0030776516|                null|         1| db_unfetched|https://amanz.me/...|\n",
      "|Wed Dec 13 20:33:...|{text/html, succe...|Mon Nov 13 20:33:...|                0|               30|             2592000|   1.1030777|b2b285ab96f37c27f...|         2|   db_fetched|   https://amanz.my/|\n",
      "|Mon Nov 13 21:20:...|{NULL, NULL, NULL...|Thu Jan 01 07:30:...|                0|               30|             2592000|0.0016666667|                null|         1| db_unfetched|https://amanz.my/...|\n",
      "|Mon Nov 13 21:20:...|{NULL, NULL, NULL...|Thu Jan 01 07:30:...|                0|               30|             2592000|0.0033333334|                null|         1| db_unfetched|https://amanz.my/...|\n",
      "|Mon Nov 13 21:20:...|{NULL, NULL, NULL...|Thu Jan 01 07:30:...|                0|               30|             2592000|0.0016666667|                null|         1| db_unfetched|https://amanz.my/...|\n",
      "|Mon Nov 13 21:20:...|{NULL, NULL, NULL...|Thu Jan 01 07:30:...|                0|               30|             2592000|0.0016666667|                null|         1| db_unfetched|https://amanz.my/...|\n",
      "|Mon Nov 13 21:20:...|{NULL, NULL, NULL...|Thu Jan 01 07:30:...|                0|               30|             2592000|0.0033333334|                null|         1| db_unfetched|https://amanz.my/...|\n",
      "|Mon Nov 13 21:20:...|{NULL, NULL, NULL...|Thu Jan 01 07:30:...|                0|               30|             2592000|0.0016666667|                null|         1| db_unfetched|https://amanz.my/...|\n",
      "|Mon Nov 13 21:20:...|{NULL, NULL, NULL...|Thu Jan 01 07:30:...|                0|               30|             2592000|0.0016666667|                null|         1| db_unfetched|https://amanz.my/...|\n",
      "|Mon Nov 13 21:20:...|{NULL, NULL, NULL...|Thu Jan 01 07:30:...|                0|               30|             2592000| 0.010000001|                null|         1| db_unfetched|https://amanz.my/...|\n",
      "|Mon Nov 13 21:20:...|{NULL, NULL, NULL...|Thu Jan 01 07:30:...|                0|               30|             2592000| 0.006666667|                null|         1| db_unfetched|https://amanz.my/...|\n",
      "|Mon Nov 13 21:20:...|{NULL, NULL, NULL...|Thu Jan 01 07:30:...|                0|               30|             2592000|0.0033333334|                null|         1| db_unfetched|https://amanz.my/...|\n",
      "|Mon Nov 13 21:20:...|{NULL, NULL, NULL...|Thu Jan 01 07:30:...|                0|               30|             2592000|       0.005|                null|         1| db_unfetched|https://amanz.my/...|\n",
      "|Mon Nov 13 21:20:...|{NULL, NULL, NULL...|Thu Jan 01 07:30:...|                0|               30|             2592000|0.0016666667|                null|         1| db_unfetched|https://amanz.my/...|\n",
      "|Mon Nov 13 21:20:...|{NULL, NULL, NULL...|Thu Jan 01 07:30:...|                0|               30|             2592000|0.0016666667|                null|         1| db_unfetched|https://amanz.my/...|\n",
      "|Mon Nov 13 21:20:...|{NULL, NULL, NULL...|Thu Jan 01 07:30:...|                0|               30|             2592000|0.0033333334|                null|         1| db_unfetched|https://amanz.my/...|\n",
      "|Wed Dec 13 21:00:...|{text/html, succe...|Mon Nov 13 21:00:...|                0|               30|             2592000|        0.05|f02868bdbf8821435...|         2|   db_fetched|https://amanz.my/...|\n",
      "+--------------------+--------------------+--------------------+-----------------+-----------------+--------------------+------------+--------------------+----------+-------------+--------------------+\n",
      "only showing top 20 rows\n",
      "\n"
     ]
    }
   ],
   "source": [
    "from pyspark.sql import SparkSession\n",
    "\n",
    "spark = SparkSession.builder.appName(\"Web Content Indexing\").getOrCreate()\n",
    "json_df = spark.read.json(\"part-r-00000\")\n",
    "json_df.show()"
   ]
  },
  {
   "cell_type": "code",
   "execution_count": 2,
   "id": "7cc51475",
   "metadata": {},
   "outputs": [
    {
     "name": "stderr",
     "output_type": "stream",
     "text": [
      "D:\\Installation\\anaconda3\\lib\\site-packages\\scipy\\__init__.py:155: UserWarning: A NumPy version >=1.18.5 and <1.25.0 is required for this version of SciPy (detected version 1.26.0\n",
      "  warnings.warn(f\"A NumPy version >={np_minversion} and <{np_maxversion}\"\n"
     ]
    }
   ],
   "source": [
    "from pyspark.ml.feature import Tokenizer\n",
    "from pyspark.sql.functions import col, rank\n",
    "from pyspark.sql.window import Window\n",
    "\n",
    "json_df = json_df.dropDuplicates().na.drop()\n",
    "\n",
    "tokenizer = Tokenizer(inputCol=\"url\", outputCol=\"keywords\")\n",
    "json_df = tokenizer.transform(json_df)\n",
    "\n",
    "windowSpec = Window.orderBy(col(\"score\").desc())\n",
    "ranked_json_df = json_df.withColumn(\"rank\", rank().over(windowSpec))\n",
    "\n",
    "indexed_json_df = ranked_json_df.select(\"url\", \"keywords\", \"rank\")\n",
    "indexed_json_df.write.parquet(\"output\")"
   ]
  },
  {
   "cell_type": "code",
   "execution_count": 3,
   "id": "24b4222e",
   "metadata": {},
   "outputs": [
    {
     "name": "stdout",
     "output_type": "stream",
     "text": [
      "+--------------------+--------------------+----+\n",
      "|                 url|            keywords|rank|\n",
      "+--------------------+--------------------+----+\n",
      "|   https://amanz.my/| [https://amanz.my/]|   1|\n",
      "|https://techlagi....|[https://techlagi...|   2|\n",
      "|https://fonts.goo...|[https://fonts.go...|   3|\n",
      "|https://techlagi....|[https://techlagi...|   4|\n",
      "|   https://amanz.me/| [https://amanz.me/]|   5|\n",
      "|https://www.googl...|[https://www.goog...|   6|\n",
      "|https://techlagi....|[https://techlagi...|   7|\n",
      "|https://techlagi....|[https://techlagi...|   8|\n",
      "|https://techlagi.my/|[https://techlagi...|   9|\n",
      "|https://techlagi....|[https://techlagi...|  10|\n",
      "|https://techlagi....|[https://techlagi...|  11|\n",
      "|https://amanz.my/...|[https://amanz.my...|  12|\n",
      "|https://stats.wp....|[https://stats.wp...|  12|\n",
      "|https://amanz.my/...|[https://amanz.my...|  12|\n",
      "|https://amanz.my/...|[https://amanz.my...|  12|\n",
      "|https://fonts.gst...|[https://fonts.gs...|  12|\n",
      "|https://static.cl...|[https://static.c...|  12|\n",
      "|https://amanz.my/...|[https://amanz.my...|  12|\n",
      "|https://v0.wordpr...|[https://v0.wordp...|  12|\n",
      "|https://cdnjs.clo...|[https://cdnjs.cl...|  12|\n",
      "+--------------------+--------------------+----+\n",
      "only showing top 20 rows\n",
      "\n"
     ]
    }
   ],
   "source": [
    "parquet_df = spark.read.parquet(\"output/part-00000-7170e01f-c3fb-47a4-b6c9-9e7cce45d50a-c000.snappy.parquet\")\n",
    "parquet_df.show()"
   ]
  },
  {
   "cell_type": "code",
   "execution_count": 4,
   "id": "57893b73",
   "metadata": {},
   "outputs": [],
   "source": [
    "spark.stop()"
   ]
  }
 ],
 "metadata": {
  "kernelspec": {
   "display_name": "Python 3 (ipykernel)",
   "language": "python",
   "name": "python3"
  },
  "language_info": {
   "codemirror_mode": {
    "name": "ipython",
    "version": 3
   },
   "file_extension": ".py",
   "mimetype": "text/x-python",
   "name": "python",
   "nbconvert_exporter": "python",
   "pygments_lexer": "ipython3",
   "version": "3.9.13"
  }
 },
 "nbformat": 4,
 "nbformat_minor": 5
}
